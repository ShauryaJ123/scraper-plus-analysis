{
 "cells": [
  {
   "cell_type": "code",
   "execution_count": 1,
   "id": "c7c19053-5434-4d70-81e1-e06a7ec18178",
   "metadata": {},
   "outputs": [],
   "source": [
    "import requests\n",
    "from bs4 import BeautifulSoup\n",
    "import pandas as pd"
   ]
  },
  {
   "cell_type": "code",
   "execution_count": 8,
   "id": "8b764d03-897d-4f23-8396-108f481e840f",
   "metadata": {},
   "outputs": [
    {
     "name": "stdout",
     "output_type": "stream",
     "text": [
      "<Response [200]>\n"
     ]
    }
   ],
   "source": [
    "import requests\n",
    "from bs4 import BeautifulSoup\n",
    "\n",
    "url = 'https://www.rottentomatoes.com/m/dune_part_two/reviews'  # Replace with the actual movie page URL\n",
    "headers = {'User-Agent': 'Mozilla/5.0'}\n",
    "response = requests.get(url, headers=headers)\n",
    "print(response)"
   ]
  },
  {
   "cell_type": "code",
   "execution_count": 9,
   "id": "3052d958-b4fc-4b1c-bbff-14346a48abf4",
   "metadata": {},
   "outputs": [
    {
     "name": "stdout",
     "output_type": "stream",
     "text": [
      "['Sci-Fi', 'Adventure', 'Action', 'Fantasy', 'Drama']\n",
      "Pt. 2 is massive, mind-blowing, less complex with much better pacing, better character development and expands the DuneMovie verse with culminating powers.\n",
      "\n",
      "It almost feels like a miracle that Denis Villeneuve got to make a Dune adaptation this bold and daring in the current studio system. \n",
      "\n",
      "Dune: Part Two is a masterpiece that surpasses the high expectations set by Part One, a movie so good, it will make you forget the horror of its popcorn bucket. \n",
      "\n",
      "A monstrous achievement for the Sci-Fi genre, Denis Villeneuve’s Dune Part Two is all guts and glory with an end result that feels like sanctified storytelling.\n",
      "\n",
      "I need a buddy comedy between Stilgar and Josh Brolin's Gurney Halleck.\n",
      "\n",
      "Just as The Empire Strikes Back was an improvement upon A New Hope, this too is an improvement upon its predecessor. It’s a perfect sci-fi epic.\n",
      "\n",
      "For all its talk about centuries-old religious sects, intergalactic trading guilds, and foretold messiahs, Dune: Part Two is a movie about power and the material resources used to secure it. \n",
      "\n",
      "Denis Villeneuve’s much-awaited sequel to 2021’s spi-fi epic, Dune, is the first truly great film of 2024. Dune: Part Two’s scope is awe-inspiring, its pacing is electric, and the themes it explores are suspenseful and thought-provoking.\n",
      "\n",
      "Dune: Part Two leads you on with the idea that we’re watching an avenging hero. In reality, we’re seeing the inevitable, deeply disconcerting outcome of where following a messiah figure takes a culture.\n",
      "\n",
      "I would be remiss to not mention Rebecca Ferguson owning the screen as Lady Jessica. This film and cast is too stacked to give it fully adequate treatment in a mere blurb...\n",
      "\n",
      "“Two: A Spice Odyssey”: Villeneuve’s gorgeous, brute parable of generational rage, interplanetary revenge and exploitation of masses for the production of magical fuel that extends dynastic rule... is freed from the garrulous exposition of the first.\n",
      "\n",
      "(Timothée Chalamet) is blessed with a remarkable head of hair that defies the desert’s dryness. There’s not an ounce of frizz on those wavy tresses. \n",
      "\n",
      "Villeneuve continues to push boundaries by creating thematically rich epics. We take these movies for granted, but when filmmakers are asked to take fewer risks, I am grateful for weird, grim blockbusters like Dune: Part Two. \n",
      "\n",
      "Villeneuve sets a new standard for big-budget, premium-format-ready filmmaking, delivering an aesthetic masterwork that shames its peers.\n",
      "\n",
      "When viewed as one long film with an intermission, Dune is a spectacular achievement. The problem is the intermission took three years.\n",
      "\n",
      "The weight of this world is presented as a matter-of-fact reality, and this solemn approach adds weight to the drama even when individual elements do not coalesce. We take the events here with operatic seriousness, all the way to their bitter end.\n",
      "    \n",
      "\n",
      "Denis Villeneuve's long-awaited sequel, Dune: Part Two, effectively delivers the full force of Frank Herbert's epic saga and is set to be a modern classic.\n",
      "\n",
      "Dune Part 2 is bolder and much more bombastic than the first instalment. In terms of cinematography and direction, this film is comparable to the sweeping epics of David Lean’s Lawrence of Arabia, Star Wars and Blade Runner. \n",
      "\n",
      "Dune is a story that combines science fiction, religion, ecology, amazing production value, and a dozen well-known actors. [Full review in Spanish]\n",
      "\n",
      "The key issues of Dune remain the key issues of Dune, but Denis Villeneuve has created a visual language for Dune that finally gives this epic its cinematic due.\n",
      "\n"
     ]
    }
   ],
   "source": [
    "soup = BeautifulSoup(response.content, 'html.parser')\n",
    "\n",
    "reviews = soup.find_all('p', class_='review-text', attrs={'data-qa': 'review-quote'})\n",
    "\n",
    "\n",
    "movie_details = soup.find('ul', attrs={'data-qa': 'sidebar-movie-details'})\n",
    "\n",
    "# Find the <li> that contains genres\n",
    "genre_item = movie_details.find_all('li')[1]  # Genres are in the second <li> (index 1)\n",
    "\n",
    "# Extract and split the genres\n",
    "genre_list = [genre.strip() for genre in genre_item.get_text().split(',')]\n",
    "\n",
    "# Print the genres\n",
    "print(genre_list)\n",
    "\n",
    "# Extract and print the text from each review\n",
    "for review in reviews:\n",
    "    print(review.get_text(), end='\\n\\n')"
   ]
  },
  {
   "cell_type": "code",
   "execution_count": 10,
   "id": "be4d16b9-d35e-44b3-b2e2-378f776e0820",
   "metadata": {},
   "outputs": [
    {
     "name": "stdout",
     "output_type": "stream",
     "text": [
      "Sci-Fi, Adventure, Action, Fantasy, Drama\n",
      "Reviews and genres have been written to 'dune2.csv'.\n"
     ]
    }
   ],
   "source": [
    "import csv\n",
    "\n",
    "genre_string = \", \".join(genre_list)\n",
    "\n",
    "print(genre_string) \n",
    "\n",
    "\n",
    "with open('dune2.csv', mode='w', newline='', encoding='utf-8') as file:\n",
    "    writer = csv.writer(file)\n",
    "\n",
    "    # Write the header\n",
    "    writer.writerow(['Review', 'Genre'])\n",
    "\n",
    "    # Write the reviews along with the genre in the first row and empty strings for the rest\n",
    "    for i, review in enumerate(reviews):\n",
    "        if i == 0:\n",
    "            # Add genre to the first row\n",
    "            writer.writerow([review.get_text(), genre_string])\n",
    "        else:\n",
    "            # Leave the genre column blank for the rest\n",
    "            writer.writerow([review.get_text(), ''])\n",
    "\n",
    "print(\"Reviews and genres have been written to 'dune2.csv'.\")\n"
   ]
  },
  {
   "cell_type": "code",
   "execution_count": null,
   "id": "49b8a4ec-2884-4671-b7c6-fa20fb1fe92d",
   "metadata": {},
   "outputs": [],
   "source": []
  }
 ],
 "metadata": {
  "kernelspec": {
   "display_name": "Python 3 (ipykernel)",
   "language": "python",
   "name": "python3"
  },
  "language_info": {
   "codemirror_mode": {
    "name": "ipython",
    "version": 3
   },
   "file_extension": ".py",
   "mimetype": "text/x-python",
   "name": "python",
   "nbconvert_exporter": "python",
   "pygments_lexer": "ipython3",
   "version": "3.12.4"
  }
 },
 "nbformat": 4,
 "nbformat_minor": 5
}
