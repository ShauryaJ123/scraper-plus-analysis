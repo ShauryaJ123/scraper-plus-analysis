{
 "cells": [
  {
   "cell_type": "code",
   "execution_count": 2,
   "id": "8139d24e-0c3d-4c04-a88f-291610142cef",
   "metadata": {},
   "outputs": [
    {
     "name": "stderr",
     "output_type": "stream",
     "text": [
      "[nltk_data] Downloading package vader_lexicon to\n",
      "[nltk_data]     C:\\Users\\hello\\AppData\\Roaming\\nltk_data...\n",
      "[nltk_data]   Package vader_lexicon is already up-to-date!\n",
      "[nltk_data] Downloading package punkt_tab to\n",
      "[nltk_data]     C:\\Users\\hello\\AppData\\Roaming\\nltk_data...\n",
      "[nltk_data]   Package punkt_tab is already up-to-date!\n",
      "[nltk_data] Downloading package averaged_perceptron_tagger to\n",
      "[nltk_data]     C:\\Users\\hello\\AppData\\Roaming\\nltk_data...\n",
      "[nltk_data]   Package averaged_perceptron_tagger is already up-to-\n",
      "[nltk_data]       date!\n"
     ]
    },
    {
     "data": {
      "text/plain": [
       "True"
      ]
     },
     "execution_count": 2,
     "metadata": {},
     "output_type": "execute_result"
    }
   ],
   "source": [
    "import pandas as pd\n",
    "import nltk\n",
    "from nltk.sentiment.vader import SentimentIntensityAnalyzer\n",
    "from collections import Counter\n",
    "import re\n",
    "\n",
    "# Ensure NLTK's VADER and POS Tagger are downloaded\n",
    "# Ensure NLTK's VADER, POS Tagger, and Punkt tokenizer are downloaded\n",
    "nltk.download('vader_lexicon')\n",
    "nltk.download('punkt_tab')\n",
    "nltk.download('averaged_perceptron_tagger')\n",
    "\n",
    "\n",
    "\n"
   ]
  },
  {
   "cell_type": "code",
   "execution_count": 1,
   "id": "fee34d03-b5c0-41e3-848b-ae370c149937",
   "metadata": {},
   "outputs": [
    {
     "name": "stderr",
     "output_type": "stream",
     "text": [
      "[nltk_data] Downloading package vader_lexicon to\n",
      "[nltk_data]     C:\\Users\\hello\\AppData\\Roaming\\nltk_data...\n",
      "[nltk_data]   Package vader_lexicon is already up-to-date!\n",
      "[nltk_data] Downloading package punkt to\n",
      "[nltk_data]     C:\\Users\\hello\\AppData\\Roaming\\nltk_data...\n",
      "[nltk_data]   Package punkt is already up-to-date!\n",
      "[nltk_data] Downloading package averaged_perceptron_tagger to\n",
      "[nltk_data]     C:\\Users\\hello\\AppData\\Roaming\\nltk_data...\n",
      "[nltk_data]   Package averaged_perceptron_tagger is already up-to-\n",
      "[nltk_data]       date!\n",
      "[nltk_data] Downloading package averaged_perceptron_tagger_eng to\n",
      "[nltk_data]     C:\\Users\\hello\\AppData\\Roaming\\nltk_data...\n",
      "[nltk_data]   Package averaged_perceptron_tagger_eng is already up-to-\n",
      "[nltk_data]       date!\n"
     ]
    },
    {
     "data": {
      "text/plain": [
       "True"
      ]
     },
     "execution_count": 1,
     "metadata": {},
     "output_type": "execute_result"
    }
   ],
   "source": [
    "import pandas as pd\n",
    "import nltk\n",
    "from nltk.sentiment.vader import SentimentIntensityAnalyzer\n",
    "from collections import Counter\n",
    "import re\n",
    "\n",
    "# Ensure NLTK's VADER, POS Tagger, and Punkt tokenizer are downloaded\n",
    "nltk.download('vader_lexicon')\n",
    "nltk.download('punkt')\n",
    "nltk.download('averaged_perceptron_tagger')\n",
    "nltk.download('averaged_perceptron_tagger_eng')\n"
   ]
  },
  {
   "cell_type": "code",
   "execution_count": 2,
   "id": "6650fb6a-ec2c-48a7-a30c-250057596a4c",
   "metadata": {},
   "outputs": [
    {
     "name": "stdout",
     "output_type": "stream",
     "text": [
      "Index(['Review', 'Genre'], dtype='object')\n",
      "The average rating for the movie based on tweets is: 7.80 out of 10\n",
      "The 5 most common adjectives used to describe the movie are:\n",
      "dune: 7 occurrences\n",
      "first: 3 occurrences\n",
      "new: 2 occurrences\n",
      "full: 2 occurrences\n",
      "key: 2 occurrences\n"
     ]
    }
   ],
   "source": [
    "\n",
    "# Load the CSV file\n",
    "file_path = 'C:/Users/hello/Downloads/dune2.csv'\n",
    "df = pd.read_csv(file_path)\n",
    "\n",
    "# Check column names and ensure 'text_raw' exists\n",
    "print(df.columns)  # Check column names in the dataframe\n",
    "\n",
    "# Remove duplicate tweets\n",
    "df = df.drop_duplicates(subset='Review', keep='first')  # Replace 'text_raw' if column is different\n",
    "\n",
    "# Initialize VADER sentiment analyzer\n",
    "sia = SentimentIntensityAnalyzer()\n",
    "\n",
    "# Preprocess the tweets\n",
    "def preprocess_tweet(tweet):\n",
    "    tweet = re.sub(r\"http\\S+|www\\S+|https\\S+\", '', tweet, flags=re.MULTILINE)\n",
    "    tweet = re.sub(r'\\@\\w+|\\#', '', tweet)\n",
    "    tweet = re.sub(r\"[^A-Za-z\\s]\", '', tweet)\n",
    "    return tweet.lower()\n",
    "\n",
    "# Clean the tweets\n",
    "df['cleaned_tweet'] = df['Review'].apply(preprocess_tweet)  # Replace 'text_raw' if column is different\n",
    "\n",
    "# Convert VADER compound score to a rating\n",
    "def compound_to_rating(compound):\n",
    "    if compound >= 0.6:\n",
    "        return 5  # Very Positive\n",
    "    elif compound >= 0.2:\n",
    "        return 4  # Positive\n",
    "    elif compound >= -0.2:\n",
    "        return 3  # Neutral\n",
    "    elif compound >= -0.6:\n",
    "        return 2  # Negative\n",
    "    else:\n",
    "        return 1  # Very Negative\n",
    "\n",
    "# Apply sentiment analysis and convert to ratings\n",
    "df['compound_score'] = df['cleaned_tweet'].apply(lambda x: sia.polarity_scores(x)['compound'])\n",
    "df['rating'] = df['compound_score'].apply(compound_to_rating)\n",
    "\n",
    "# Calculate the average rating\n",
    "average_rating = df['rating'].mean()\n",
    "print(f\"The average rating for the movie based on tweets is: {2*average_rating:.2f} out of 10\")\n",
    "\n",
    "# Function to extract adjectives from a tweet\n",
    "def extract_adjectives(text):\n",
    "    words = nltk.word_tokenize(text)\n",
    "    pos_tags = nltk.pos_tag(words)\n",
    "    adjectives = [word for word, pos in pos_tags if pos in ('JJ', 'JJR', 'JJS')]\n",
    "    return adjectives\n",
    "\n",
    "# Collect all adjectives from cleaned tweets\n",
    "all_adjectives = df['cleaned_tweet'].apply(extract_adjectives).sum()  # Flatten list of lists\n",
    "\n",
    "# Find the 5 most common adjectives\n",
    "common_adjectives = Counter(all_adjectives).most_common(5)\n",
    "print(\"The 5 most common adjectives used to describe the movie are:\")\n",
    "for adjective, count in common_adjectives:\n",
    "    print(f\"{adjective}: {count} occurrences\")\n",
    "\n"
   ]
  },
  {
   "cell_type": "code",
   "execution_count": null,
   "id": "401a0470-d3e5-4c36-a663-19b9ef232b7a",
   "metadata": {},
   "outputs": [],
   "source": []
  }
 ],
 "metadata": {
  "kernelspec": {
   "display_name": "Python 3 (ipykernel)",
   "language": "python",
   "name": "python3"
  },
  "language_info": {
   "codemirror_mode": {
    "name": "ipython",
    "version": 3
   },
   "file_extension": ".py",
   "mimetype": "text/x-python",
   "name": "python",
   "nbconvert_exporter": "python",
   "pygments_lexer": "ipython3",
   "version": "3.12.4"
  }
 },
 "nbformat": 4,
 "nbformat_minor": 5
}
